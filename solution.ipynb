{
 "cells": [
  {
   "cell_type": "markdown",
   "metadata": {},
   "source": [
    "# Finite Field Multiplication and Exponentiation\n",
    "\n",
    "Just as we defined a new addition ($+~f~$) for Finite Fields that was _closed_, we can also define a new multiplication for Finite Fields that's also closed. By multiplying the same number many times, we can also define exponentiation or power. In this section, we'll go through exactly how to define this using modulo arithmetic.\n",
    "\n",
    "As you most likely learned in elementary school, multiplication is simply adding a number many times.\n",
    "\n",
    "5⋅3 = 5+5+5 = 15\n",
    "\n",
    "8⋅17 = 8+8+8+...(17 total 8's)...+8 = 136\n",
    "\n",
    "We can define multiplication on a Finite Field the same way. Operating in $F~19~$ once again,\n",
    "\n",
    "$5⋅~f~3 = 5+~f~5+~f~5$\n",
    "\n",
    "$8⋅~f~17 = 8+~f~8+~f~8+~f~...(17 total 8's)...+~f~8$\n",
    "\n",
    "We already know how to do the right side, and that yields a number within the F~19~ set:\n",
    "\n",
    "$5⋅~f~3 = 5+~f~5+~f~5 = 15 % 19 = 15$\n",
    "\n",
    "$8⋅~f~17 = 8+~f~8+~f~8+~f~...(17 total 8's)...+~f~8 = (8⋅17) % 19 = 136 % 19 = 3$\n",
    "\n",
    "Note that the second result is pretty unintuitive. We don't normally think of 8⋅17 as 3, but that's part of what's necessary in order to define multiplication in a way that's closed. That is, the result of field multiplication is always in the set {0,1,...18}.\n",
    "\n",
    "Exponentiation is simply multiplying a number many times.\n",
    "\n",
    "7^3 = 7⋅7⋅7 = 343\n",
    "\n",
    "In a finite field, we can do exponentiation using modulo arithmetic as before.\n",
    "\n",
    "In $F~19~$:\n",
    "\n",
    "7^3 = 343 % 19= 1\n",
    "\n",
    "9^12 = 7\n",
    "\n",
    "Exponentiation again gives us counter-intuitive results. We don't normally think 7^3^=1 or 9^12^=7. Again, part of why Finite Fields work is because the operations *always* result in a number within the field."
   ]
  },
  {
   "cell_type": "markdown",
   "metadata": {},
   "source": [
    "#### Solve these equations in \\\\(F_{31}\\\\):\n",
    "\n",
    "\\\\(24\\cdot19=?\\\\)\n",
    "\n",
    "\\\\(17^3=?\\\\)\n",
    "\n",
    "\\\\(5^5\\cdot18=?\\\\)"
   ]
  },
  {
   "cell_type": "code",
   "execution_count": 25,
   "metadata": {},
   "outputs": [],
   "source": [
    "# remember that ** is the exponentiation operator\n",
    "prime = 31\n",
    "# 24*19=?\n",
    "print(24*19 % prime)\n",
    "# 17^3=?\n",
    "print(17**3 % prime)\n",
    "# 5^5*18=?\n",
    "print(5**5*18 % prime)"
   ]
  },
  {
   "cell_type": "markdown",
   "metadata": {},
   "source": [
    "#### Write a program to calculate \\\\(0k, 1k, 2k, 3k, ... 30k\\\\) for some k in \\\\(F_{31}\\\\).  Notice anything about these sets?"
   ]
  },
  {
   "cell_type": "code",
   "execution_count": 26,
   "metadata": {},
   "outputs": [],
   "source": [
    "from random import randint\n",
    "\n",
    "prime = 31\n",
    "k = randint(1,prime)\n",
    "\n",
    "# use range(prime) to iterate over all numbers from 0 to 30 inclusive\n",
    "print(sorted([i*k % prime for i in range(prime)]))"
   ]
  },
  {
   "cell_type": "markdown",
   "metadata": {},
   "source": [
    "#### Write a program to calculate \\\\(k^{30}\\\\) for all k in \\\\(F_{31}\\\\). Notice anything?"
   ]
  },
  {
   "cell_type": "code",
   "execution_count": 27,
   "metadata": {},
   "outputs": [],
   "source": [
    "prime = 31\n",
    "\n",
    "# use range(1, prime) to iterate over all numbers from 1 to 30 inclusive\n",
    "print([i**30 % prime for i in range(1, prime)])"
   ]
  },
  {
   "cell_type": "markdown",
   "metadata": {},
   "source": [
    "### Exercise\n",
    "\n",
    "Create the `__mul__` and `__pow__` methods for your library:"
   ]
  },
  {
   "cell_type": "code",
   "execution_count": 1,
   "metadata": {},
   "outputs": [],
   "source": [
    "from ecc import FieldElement\n",
    "\n",
    "class FieldElement(FieldElement):\n",
    "\n",
    "    def __mul__(self, other):\n",
    "        if self.prime != other.prime:\n",
    "            raise RuntimeError('Primes must be the same')\n",
    "        # self.num and other.num are the actual values\n",
    "        num = (self.num * other.num) % self.prime\n",
    "        # self.prime is what you'll need to mod against\n",
    "        prime = self.prime\n",
    "        # You need to return an element of the same class\n",
    "        # use: self.__class__(num, prime)\n",
    "        return self.__class__(num, prime)\n",
    "\n",
    "    def __pow__(self, n):\n",
    "        # remember fermat's little theorem:\n",
    "        # self.num**(p-1) % p == 1\n",
    "        # you might want to use % operator on n\n",
    "        prime = self.prime\n",
    "        num = pow(self.num, n % (prime-1), prime)\n",
    "        return self.__class__(num, prime)"
   ]
  }
 ],
 "metadata": {
  "kernelspec": {
   "display_name": "Python 3",
   "language": "python",
   "name": "python3"
  },
  "language_info": {
   "codemirror_mode": {
    "name": "ipython",
    "version": 3
   },
   "file_extension": ".py",
   "mimetype": "text/x-python",
   "name": "python",
   "nbconvert_exporter": "python",
   "pygments_lexer": "ipython3",
   "version": "3.6.5"
  }
 },
 "nbformat": 4,
 "nbformat_minor": 2
}
